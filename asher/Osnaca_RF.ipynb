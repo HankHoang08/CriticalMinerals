{
 "cells": [
  {
   "cell_type": "markdown",
   "metadata": {},
   "source": [
    "# Random Forest regression analysis of Ge in combined OSNACA data"
   ]
  },
  {
   "cell_type": "code",
   "execution_count": 31,
   "metadata": {},
   "outputs": [],
   "source": [
    "import pandas as pd\r\n",
    "import sklearn\r\n",
    "import numpy as np"
   ]
  },
  {
   "cell_type": "code",
   "execution_count": 3,
   "metadata": {},
   "outputs": [],
   "source": [
    "#read in the data\r\n",
    "\r\n",
    "osnaca = pd.read_excel(\"../data/osnaca-data.xlsx\",sheet_name=\"Data\")\r\n",
    "osnaca_conclurry = pd.read_excel(\"../data/osnaca-data.xlsx\",sheet_name=\"Cloncurry Supplement\")\r\n",
    "osnaca_metadata_sheet1 = pd.read_excel(\"../data/osnaca-metadata.xlsx\",sheet_name=\"Ore samples\")"
   ]
  },
  {
   "cell_type": "code",
   "execution_count": 4,
   "metadata": {},
   "outputs": [
    {
     "data": {
      "text/html": "<div>\n<style scoped>\n    .dataframe tbody tr th:only-of-type {\n        vertical-align: middle;\n    }\n\n    .dataframe tbody tr th {\n        vertical-align: top;\n    }\n\n    .dataframe thead th {\n        text-align: right;\n    }\n</style>\n<table border=\"1\" class=\"dataframe\">\n  <thead>\n    <tr style=\"text-align: right;\">\n      <th></th>\n      <th>Sample</th>\n      <th>Code</th>\n      <th>Au (FA)</th>\n      <th>Pt</th>\n      <th>Pd</th>\n      <th>Au (AR)</th>\n      <th>Bi</th>\n      <th>Te</th>\n      <th>Hg</th>\n      <th>Ag</th>\n      <th>...</th>\n      <th>Y</th>\n      <th>Zn</th>\n      <th>B</th>\n      <th>Hf</th>\n      <th>Si</th>\n      <th>Zr</th>\n      <th>Be</th>\n      <th>Ga</th>\n      <th>Ge</th>\n      <th>Wt Tot</th>\n    </tr>\n  </thead>\n  <tbody>\n    <tr>\n      <th>0</th>\n      <td>700001</td>\n      <td>NaN</td>\n      <td>0.438</td>\n      <td>0.002</td>\n      <td>0.002</td>\n      <td>0.362</td>\n      <td>10.60</td>\n      <td>0.02</td>\n      <td>0.39</td>\n      <td>91.5</td>\n      <td>...</td>\n      <td>1.2</td>\n      <td>153000</td>\n      <td>-20</td>\n      <td>0.4</td>\n      <td>34200</td>\n      <td>60</td>\n      <td>-1.0</td>\n      <td>11.0</td>\n      <td>1</td>\n      <td>159</td>\n    </tr>\n    <tr>\n      <th>1</th>\n      <td>700002</td>\n      <td>NaN</td>\n      <td>0.093</td>\n      <td>0.001</td>\n      <td>0.002</td>\n      <td>0.095</td>\n      <td>125.00</td>\n      <td>0.22</td>\n      <td>0.12</td>\n      <td>44.0</td>\n      <td>...</td>\n      <td>18.5</td>\n      <td>3780</td>\n      <td>-20</td>\n      <td>0.2</td>\n      <td>114000</td>\n      <td>20</td>\n      <td>-1.0</td>\n      <td>2.0</td>\n      <td>-1</td>\n      <td>143</td>\n    </tr>\n    <tr>\n      <th>2</th>\n      <td>700003</td>\n      <td>NaN</td>\n      <td>1.41</td>\n      <td>0.002</td>\n      <td>0.002</td>\n      <td>1.39</td>\n      <td>120.00</td>\n      <td>0.02</td>\n      <td>62.9</td>\n      <td>215.0</td>\n      <td>...</td>\n      <td>0.3</td>\n      <td>219000</td>\n      <td>-20</td>\n      <td>-0.2</td>\n      <td>71500</td>\n      <td>-10</td>\n      <td>-1.0</td>\n      <td>-1.0</td>\n      <td>2</td>\n      <td>204</td>\n    </tr>\n    <tr>\n      <th>3</th>\n      <td>700004</td>\n      <td>1</td>\n      <td>0.096</td>\n      <td>0.003</td>\n      <td>0.005</td>\n      <td>0.086</td>\n      <td>0.72</td>\n      <td>0.80</td>\n      <td>0.03</td>\n      <td>2.5</td>\n      <td>...</td>\n      <td>6.3</td>\n      <td>755</td>\n      <td>-20</td>\n      <td>2.0</td>\n      <td>244000</td>\n      <td>70</td>\n      <td>-1.0</td>\n      <td>-1.0</td>\n      <td>-1</td>\n      <td>185</td>\n    </tr>\n    <tr>\n      <th>4</th>\n      <td>700005</td>\n      <td>NaN</td>\n      <td>2.9</td>\n      <td>0.003</td>\n      <td>0.005</td>\n      <td>3.94</td>\n      <td>0.34</td>\n      <td>0.06</td>\n      <td>4.01</td>\n      <td>162.0</td>\n      <td>...</td>\n      <td>4.5</td>\n      <td>173000</td>\n      <td>-20</td>\n      <td>-0.2</td>\n      <td>142000</td>\n      <td>-10</td>\n      <td>-1.0</td>\n      <td>-1.0</td>\n      <td>2</td>\n      <td>280</td>\n    </tr>\n  </tbody>\n</table>\n<p>5 rows × 69 columns</p>\n</div>",
      "text/plain": "   Sample Code Au (FA)     Pt     Pd Au (AR)      Bi    Te    Hg     Ag  ...  \\\n0  700001  NaN   0.438  0.002  0.002   0.362   10.60  0.02  0.39   91.5  ...   \n1  700002  NaN   0.093  0.001  0.002   0.095  125.00  0.22  0.12   44.0  ...   \n2  700003  NaN    1.41  0.002  0.002    1.39  120.00  0.02  62.9  215.0  ...   \n3  700004    1   0.096  0.003  0.005   0.086    0.72  0.80  0.03    2.5  ...   \n4  700005  NaN     2.9  0.003  0.005    3.94    0.34  0.06  4.01  162.0  ...   \n\n      Y      Zn   B   Hf      Si  Zr   Be    Ga  Ge  Wt Tot  \n0   1.2  153000 -20  0.4   34200  60 -1.0  11.0   1     159  \n1  18.5    3780 -20  0.2  114000  20 -1.0   2.0  -1     143  \n2   0.3  219000 -20 -0.2   71500 -10 -1.0  -1.0   2     204  \n3   6.3     755 -20  2.0  244000  70 -1.0  -1.0  -1     185  \n4   4.5  173000 -20 -0.2  142000 -10 -1.0  -1.0   2     280  \n\n[5 rows x 69 columns]"
     },
     "execution_count": 4,
     "metadata": {},
     "output_type": "execute_result"
    }
   ],
   "source": [
    "osnaca.head()"
   ]
  },
  {
   "cell_type": "code",
   "execution_count": 5,
   "metadata": {},
   "outputs": [
    {
     "data": {
      "text/html": "<div>\n<style scoped>\n    .dataframe tbody tr th:only-of-type {\n        vertical-align: middle;\n    }\n\n    .dataframe tbody tr th {\n        vertical-align: top;\n    }\n\n    .dataframe thead th {\n        text-align: right;\n    }\n</style>\n<table border=\"1\" class=\"dataframe\">\n  <thead>\n    <tr style=\"text-align: right;\">\n      <th></th>\n      <th>Sample</th>\n      <th>Code</th>\n      <th>Code Tester</th>\n      <th>Au1</th>\n      <th>Pt</th>\n      <th>Pd</th>\n      <th>Au(AR)</th>\n      <th>Bi</th>\n      <th>Te</th>\n      <th>Hg</th>\n      <th>...</th>\n      <th>Y</th>\n      <th>Zn</th>\n      <th>B</th>\n      <th>Hf</th>\n      <th>Si</th>\n      <th>Zr</th>\n      <th>Be</th>\n      <th>Ga</th>\n      <th>Ge</th>\n      <th>Wt Total</th>\n    </tr>\n  </thead>\n  <tbody>\n    <tr>\n      <th>0</th>\n      <td>ALT010</td>\n      <td>NaN</td>\n      <td>NaN</td>\n      <td>0.039</td>\n      <td>0.002</td>\n      <td>-0.001</td>\n      <td>NaN</td>\n      <td>1.20</td>\n      <td>0.44</td>\n      <td>12.80</td>\n      <td>...</td>\n      <td>7.1</td>\n      <td>6760</td>\n      <td>-20</td>\n      <td>1.2</td>\n      <td>91800</td>\n      <td>40</td>\n      <td>4.2</td>\n      <td>16.6</td>\n      <td>4</td>\n      <td>164.0</td>\n    </tr>\n    <tr>\n      <th>1</th>\n      <td>ALT024</td>\n      <td>NaN</td>\n      <td>NaN</td>\n      <td>0.011</td>\n      <td>-0.001</td>\n      <td>0.002</td>\n      <td>NaN</td>\n      <td>0.20</td>\n      <td>0.10</td>\n      <td>0.02</td>\n      <td>...</td>\n      <td>14.6</td>\n      <td>1390</td>\n      <td>-20</td>\n      <td>22.0</td>\n      <td>64300</td>\n      <td>900</td>\n      <td>12.2</td>\n      <td>25.8</td>\n      <td>3</td>\n      <td>140.0</td>\n    </tr>\n    <tr>\n      <th>2</th>\n      <td>ALT073</td>\n      <td>NaN</td>\n      <td>NaN</td>\n      <td>0.436</td>\n      <td>0.004</td>\n      <td>0.007</td>\n      <td>NaN</td>\n      <td>0.30</td>\n      <td>0.22</td>\n      <td>1.30</td>\n      <td>...</td>\n      <td>15.1</td>\n      <td>1510</td>\n      <td>-20</td>\n      <td>2.0</td>\n      <td>127000</td>\n      <td>70</td>\n      <td>17.0</td>\n      <td>32.4</td>\n      <td>12</td>\n      <td>109.0</td>\n    </tr>\n    <tr>\n      <th>3</th>\n      <td>ALT074</td>\n      <td>NaN</td>\n      <td>NaN</td>\n      <td>0.508</td>\n      <td>0.002</td>\n      <td>0.002</td>\n      <td>NaN</td>\n      <td>24.70</td>\n      <td>1.80</td>\n      <td>3.91</td>\n      <td>...</td>\n      <td>3.6</td>\n      <td>14500</td>\n      <td>20</td>\n      <td>0.4</td>\n      <td>40300</td>\n      <td>4</td>\n      <td>0.9</td>\n      <td>5.6</td>\n      <td>1</td>\n      <td>NaN</td>\n    </tr>\n    <tr>\n      <th>4</th>\n      <td>ART013</td>\n      <td>1.0</td>\n      <td>1.0</td>\n      <td>-0.001</td>\n      <td>0.001</td>\n      <td>-0.001</td>\n      <td>NaN</td>\n      <td>0.08</td>\n      <td>-0.02</td>\n      <td>-0.01</td>\n      <td>...</td>\n      <td>41.0</td>\n      <td>225</td>\n      <td>80</td>\n      <td>5.6</td>\n      <td>248000</td>\n      <td>156</td>\n      <td>6.0</td>\n      <td>33.4</td>\n      <td>1</td>\n      <td>NaN</td>\n    </tr>\n  </tbody>\n</table>\n<p>5 rows × 70 columns</p>\n</div>",
      "text/plain": "   Sample  Code  Code Tester    Au1     Pt     Pd  Au(AR)     Bi    Te     Hg  \\\n0  ALT010   NaN          NaN  0.039  0.002 -0.001     NaN   1.20  0.44  12.80   \n1  ALT024   NaN          NaN  0.011 -0.001  0.002     NaN   0.20  0.10   0.02   \n2  ALT073   NaN          NaN  0.436  0.004  0.007     NaN   0.30  0.22   1.30   \n3  ALT074   NaN          NaN  0.508  0.002  0.002     NaN  24.70  1.80   3.91   \n4  ART013   1.0          1.0 -0.001  0.001 -0.001     NaN   0.08 -0.02  -0.01   \n\n   ...     Y     Zn   B    Hf      Si   Zr    Be    Ga  Ge  Wt Total  \n0  ...   7.1   6760 -20   1.2   91800   40   4.2  16.6   4     164.0  \n1  ...  14.6   1390 -20  22.0   64300  900  12.2  25.8   3     140.0  \n2  ...  15.1   1510 -20   2.0  127000   70  17.0  32.4  12     109.0  \n3  ...   3.6  14500  20   0.4   40300    4   0.9   5.6   1       NaN  \n4  ...  41.0    225  80   5.6  248000  156   6.0  33.4   1       NaN  \n\n[5 rows x 70 columns]"
     },
     "execution_count": 5,
     "metadata": {},
     "output_type": "execute_result"
    }
   ],
   "source": [
    "osnaca_conclurry.head()"
   ]
  },
  {
   "cell_type": "markdown",
   "metadata": {},
   "source": [
    "### Merge two first sheets"
   ]
  },
  {
   "cell_type": "code",
   "execution_count": 6,
   "metadata": {},
   "outputs": [
    {
     "data": {
      "text/plain": "{'Au (AR)', 'Au (FA)', 'Wt Tot'}"
     },
     "execution_count": 6,
     "metadata": {},
     "output_type": "execute_result"
    }
   ],
   "source": [
    "set(osnaca.columns).difference(set(osnaca_conclurry.columns))"
   ]
  },
  {
   "cell_type": "code",
   "execution_count": 7,
   "metadata": {},
   "outputs": [
    {
     "data": {
      "text/plain": "{'Au(AR)', 'Au1', 'Code Tester', 'Wt Total'}"
     },
     "execution_count": 7,
     "metadata": {},
     "output_type": "execute_result"
    }
   ],
   "source": [
    "set(osnaca_conclurry.columns).difference(set(osnaca.columns))"
   ]
  },
  {
   "cell_type": "code",
   "execution_count": 8,
   "metadata": {},
   "outputs": [],
   "source": [
    "#assumed Au1 = Au (FA)\r\n",
    "osnaca_cloncurry = osnaca_conclurry.rename(columns={\"Wt Total\": \"Wt Tot\", \"Au(AR)\": \"Au (AR)\", \"Au1\": \"Au (FA)\"})\r\n",
    "osnaca_cloncurry = osnaca_cloncurry.drop(['Code Tester'], axis = 1)"
   ]
  },
  {
   "cell_type": "code",
   "execution_count": 9,
   "metadata": {},
   "outputs": [],
   "source": [
    "#merge the Cloncurry data with the other samples\r\n",
    "osnaca_all = pd.concat([osnaca, osnaca_cloncurry])"
   ]
  },
  {
   "cell_type": "code",
   "execution_count": 14,
   "metadata": {},
   "outputs": [
    {
     "name": "stdout",
     "output_type": "stream",
     "text": [
      "(1139, 69) (72, 69) (1211, 69)\n"
     ]
    }
   ],
   "source": [
    "#conclurry rows successfully contatenated\r\n",
    "print(osnaca.shape, osnaca_cloncurry.shape, osnaca_all.shape)"
   ]
  },
  {
   "cell_type": "markdown",
   "metadata": {},
   "source": [
    "Highest Associates of Ge appear to be Zn, Cd, S and Tl as seen below in both combined and single dataset"
   ]
  },
  {
   "cell_type": "code",
   "execution_count": 19,
   "metadata": {},
   "outputs": [
    {
     "data": {
      "text/plain": "Ge    1.000000\nZn    0.496282\nCd    0.226739\nS     0.198342\nTl    0.179400\n        ...   \nK    -0.095798\nNa   -0.102637\nTi   -0.116100\nAl   -0.139017\nSi   -0.185344\nName: Ge, Length: 61, dtype: float64"
     },
     "execution_count": 19,
     "metadata": {},
     "output_type": "execute_result"
    }
   ],
   "source": [
    "#using combined dataset doesn't notably change correlations with Ge at first glance\r\n",
    "osnaca_all.corr()['Ge'].sort_values(ascending=False)"
   ]
  },
  {
   "cell_type": "code",
   "execution_count": 17,
   "metadata": {},
   "outputs": [
    {
     "data": {
      "text/plain": "Ge    1.000000\nZn    0.494664\nCd    0.224266\nS     0.202368\nTl    0.177224\n        ...   \nK    -0.098204\nNa   -0.103530\nTi   -0.119651\nAl   -0.143311\nSi   -0.195223\nName: Ge, Length: 62, dtype: float64"
     },
     "execution_count": 17,
     "metadata": {},
     "output_type": "execute_result"
    }
   ],
   "source": [
    "osnaca.corr()['Ge'].sort_values(ascending=False)"
   ]
  },
  {
   "cell_type": "code",
   "execution_count": null,
   "metadata": {},
   "outputs": [],
   "source": []
  },
  {
   "cell_type": "markdown",
   "metadata": {},
   "source": [
    "## Data Cleaning\r\n",
    "\r\n",
    "Remove Na values for RF regressor\r\n",
    "\r\n",
    "Deal with negative values, by converting it to half the absolute value"
   ]
  },
  {
   "cell_type": "code",
   "execution_count": null,
   "metadata": {},
   "outputs": [],
   "source": [
    "# IS values in dataset need to be converted to Na values\r\n",
    "\r\n"
   ]
  },
  {
   "cell_type": "code",
   "execution_count": 53,
   "metadata": {},
   "outputs": [
    {
     "data": {
      "text/plain": "Code       994\nAu (AR)     72\nWt Tot     617\ndtype: int64"
     },
     "execution_count": 53,
     "metadata": {},
     "output_type": "execute_result"
    }
   ],
   "source": [
    "#missing values need to be removed, Code and Wt Tot columnns can be removed as they aren't useful features, meaning 72 rows will be removed\r\n",
    "osnaca_all.isna().sum()[osnaca_all.isna().sum() > 0]"
   ]
  },
  {
   "cell_type": "code",
   "execution_count": 54,
   "metadata": {},
   "outputs": [
    {
     "data": {
      "text/plain": "Au (AR)    72\ndtype: int64"
     },
     "execution_count": 54,
     "metadata": {},
     "output_type": "execute_result"
    }
   ],
   "source": [
    "#drop code and wt tot columns\r\n",
    "#drop sample column as it is not a useful feature\r\n",
    "osnaca_all2 = osnaca_all.drop(['Code', 'Wt Tot', 'Sample'], axis=1)\r\n",
    "osnaca_all2.isna().sum()[osnaca_all2.isna().sum() > 0]"
   ]
  },
  {
   "cell_type": "code",
   "execution_count": 55,
   "metadata": {},
   "outputs": [
    {
     "name": "stderr",
     "output_type": "stream",
     "text": [
      "C:\\Users\\caley\\anaconda3\\lib\\site-packages\\pandas\\core\\ops\\array_ops.py:253: FutureWarning: elementwise comparison failed; returning scalar instead, but in the future will perform elementwise comparison\n",
      "  res_values = method(rvalues)\n"
     ]
    }
   ],
   "source": [
    "#remove values that are 'IS'\r\n",
    "osnaca_all2=osnaca_all2[osnaca_all2 != 'IS']"
   ]
  },
  {
   "cell_type": "code",
   "execution_count": 56,
   "metadata": {},
   "outputs": [
    {
     "data": {
      "text/plain": "Series([], dtype: int64)"
     },
     "execution_count": 56,
     "metadata": {},
     "output_type": "execute_result"
    }
   ],
   "source": [
    "#drop 72 rows\r\n",
    "osnaca_all2 = osnaca_all2.dropna()\r\n",
    "osnaca_all2.isna().sum()[osnaca_all2.isna().sum() > 0]"
   ]
  },
  {
   "cell_type": "code",
   "execution_count": 57,
   "metadata": {},
   "outputs": [
    {
     "data": {
      "text/plain": "(1135, 66)"
     },
     "execution_count": 57,
     "metadata": {},
     "output_type": "execute_result"
    }
   ],
   "source": [
    "#1135 rows remain\r\n",
    "osnaca_all2.shape"
   ]
  },
  {
   "cell_type": "markdown",
   "metadata": {},
   "source": [
    "## Random Forest"
   ]
  },
  {
   "cell_type": "code",
   "execution_count": 58,
   "metadata": {},
   "outputs": [],
   "source": [
    "from sklearn.ensemble import RandomForestRegressor\r\n",
    "\r\n",
    "\r\n",
    "#split dataset into features and output variable\r\n",
    "X = osnaca_all2.drop(['Ge'], axis=1)\r\n",
    "y = osnaca_all2['Ge']"
   ]
  },
  {
   "cell_type": "code",
   "execution_count": 59,
   "metadata": {},
   "outputs": [],
   "source": [
    "#split data into train and test set\r\n",
    "import sklearn.model_selection as selection\r\n",
    "\r\n",
    "X_train, X_test, y_train, y_test = selection.train_test_split(X, y, test_size = 0.25, random_state = 0)"
   ]
  },
  {
   "cell_type": "code",
   "execution_count": 65,
   "metadata": {},
   "outputs": [],
   "source": [
    "#specify regression model\r\n",
    "regressor = RandomForestRegressor(n_estimators=500, random_state=0)\r\n"
   ]
  },
  {
   "cell_type": "code",
   "execution_count": 66,
   "metadata": {},
   "outputs": [
    {
     "data": {
      "text/plain": "RandomForestRegressor(n_estimators=500, random_state=0)"
     },
     "execution_count": 66,
     "metadata": {},
     "output_type": "execute_result"
    }
   ],
   "source": [
    "#fit to training data \r\n",
    "regressor.fit(X_train, y_train)"
   ]
  },
  {
   "cell_type": "code",
   "execution_count": 67,
   "metadata": {},
   "outputs": [],
   "source": [
    "#predictions for training and test data set\r\n",
    "y_pred_train = regressor.predict(X_train)\r\n",
    "y_pred_test = regressor.predict(X_test)\r\n"
   ]
  },
  {
   "cell_type": "code",
   "execution_count": 68,
   "metadata": {},
   "outputs": [
    {
     "name": "stdout",
     "output_type": "stream",
     "text": [
      "Training Error\n",
      "Mean Absolute Error: 2.0208813160987074\n",
      "Mean Squared Error: 43.21029721739131\n",
      "Root Mean Squared Error: 6.573453979255602\n",
      "\n",
      "Testing Error\n",
      "Mean Absolute Error: 5.278190140845071\n",
      "Mean Squared Error: 146.1675745774648\n",
      "Root Mean Squared Error: 12.089978270347089\n"
     ]
    }
   ],
   "source": [
    "#evaluating random forest\r\n",
    "from sklearn import metrics\r\n",
    "print('Training Error')\r\n",
    "print('Mean Absolute Error:', metrics.mean_absolute_error(y_train,y_pred_train))\r\n",
    "print('Mean Squared Error:', metrics.mean_squared_error(y_train,y_pred_train))\r\n",
    "print('Root Mean Squared Error:', np.sqrt(metrics.mean_squared_error(y_train,y_pred_train)))\r\n",
    "print(\"\")\r\n",
    "\r\n",
    "print('Testing Error')\r\n",
    "print('Mean Absolute Error:', metrics.mean_absolute_error(y_test,y_pred_test))\r\n",
    "print('Mean Squared Error:', metrics.mean_squared_error(y_test,y_pred_test))\r\n",
    "print('Root Mean Squared Error:', np.sqrt(metrics.mean_squared_error(y_test,y_pred_test)))"
   ]
  },
  {
   "cell_type": "markdown",
   "metadata": {},
   "source": [
    "## Feature Importances"
   ]
  },
  {
   "cell_type": "code",
   "execution_count": 79,
   "metadata": {},
   "outputs": [
    {
     "name": "stdout",
     "output_type": "stream",
     "text": [
      "Au (FA) 0.009416745201942113\n",
      "Pt 0.0006522822087701138\n",
      "Pd 0.0010509083890617185\n",
      "Au (AR) 0.010886407475641955\n",
      "Bi 0.009993254328143087\n",
      "Te 0.004722904481260628\n",
      "Hg 0.007312842569380792\n",
      "Ag 0.007802244142129938\n",
      "Al 0.003306072780281539\n",
      "As 0.005533311448606364\n",
      "Ca 0.015390499885901295\n",
      "Cd 0.01405961957713294\n",
      "Co 0.009186939226017172\n",
      "Cr 0.00018349778465703978\n",
      "Cs 0.01794279470013903\n",
      "Cu 0.011772963578558924\n",
      "Fe 0.006965527362297047\n",
      "In 0.005072315994729995\n",
      "K 0.003526032939331672\n",
      "La 0.016648918386921008\n",
      "Ce 0.015471218906090153\n",
      "Pr 0.004161739625463887\n",
      "Nd 0.01113976754179891\n",
      "Sm 0.008586144168293319\n",
      "Eu 0.0020389861837726312\n",
      "Gd 0.0016060532342978071\n",
      "Tb 0.0008211096375496304\n",
      "Dy 0.0014752833688117504\n",
      "Ho 0.0008267622526913856\n",
      "Er 0.0007552121173642071\n",
      "Tm 0.0008514221639139176\n",
      "Yb 0.0031175471762092113\n",
      "Lu 0.004205435095077924\n",
      "Li 0.008175589224526245\n",
      "Mg 0.009339288909145062\n",
      "Mn 0.020361304210521087\n",
      "Mo 0.007529666727310663\n",
      "Na 0.003433766687449599\n",
      "Nb 0.001485249258580049\n",
      "Ni 0.004958409351773244\n",
      "P 0.002052780312000724\n",
      "Pb 0.10294728154793742\n",
      "Rb 0.0018849222638985081\n",
      "Re 0.0022091770344814677\n",
      "S 0.00904627517806573\n",
      "Sb 0.009305362186713899\n",
      "Sc 0.001754832404704552\n",
      "Se 0.0074699998485697585\n",
      "Sn 0.007179600791177621\n",
      "Sr 0.012716709919493384\n",
      "Ta 0.0005880489115639072\n",
      "Th 0.0064612579530318\n",
      "Ti 0.0013237973759027478\n",
      "Tl 0.03860308350828024\n",
      "U 0.005285531023972745\n",
      "V 0.003380335816714931\n",
      "W 0.017346466777474125\n",
      "Y 0.0019642748277293484\n",
      "Zn 0.42364299976891906\n",
      "B 0.0013520340742172493\n",
      "Hf 0.004031537017932302\n",
      "Si 0.046064166773732554\n",
      "Zr 0.002743884589405237\n",
      "Be 0.007549349196672563\n",
      "Ga 0.011330252595863108\n"
     ]
    }
   ],
   "source": [
    "#Feature importances\r\n",
    "for name, score in zip(X_train.columns, regressor.feature_importances_):\r\n",
    "    print(name, score)"
   ]
  }
 ],
 "metadata": {
  "kernelspec": {
   "display_name": "Python 3.8.3 64-bit (conda)",
   "name": "python383jvsc74a57bd055762f557aeffd28f7ca3b748ec3c0fe57aab1c2c735d26da4795079ed922e1c"
  },
  "language_info": {
   "codemirror_mode": {
    "name": "ipython",
    "version": 3
   },
   "file_extension": ".py",
   "mimetype": "text/x-python",
   "name": "python",
   "nbconvert_exporter": "python",
   "pygments_lexer": "ipython3",
   "version": "3.8.3"
  },
  "orig_nbformat": 2
 },
 "nbformat": 4,
 "nbformat_minor": 2
}